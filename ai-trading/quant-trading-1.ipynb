{
 "cells": [
  {
   "cell_type": "markdown",
   "metadata": {},
   "source": [
    "# Book References\n",
    "- The Quants by Scott Patterson\n",
    "- Black Swan, Anti-Fragile Nassim Nicholas Taleb\n",
    "- "
   ]
  },
  {
   "cell_type": "markdown",
   "metadata": {},
   "source": [
    "# Notables\n",
    "- mathematics, statistics, programming, finance skills are requisites for a successful quant.\n",
    "- develop a market portfolio + financial literature.\n",
    "- choose independence, and struggle a bit, to enhance learning. \n",
    "- nano degree is primarily focused on the buy side of trading. \n",
    "\n",
    "## Stock Prices\n",
    "1. *security* - financial instrument with some monetary value \n",
    "    a. *debt securities* (fixed-income securities) - government or corporate bondes, or certificates of deposit that must be repaid. \n",
    "    b. *Options* - contract to give the buyer the right to buy/sell an underlying asset at a specified price by a specified date.\n",
    "    c. *Futures Contracts* - obligates the buyder/seller to buy/sell at a specified time by a specified date. \n",
    "    d. *Equities securities* - the net value of something owned, i.e., equity owned at a firm. \n",
    "\n",
    "## Market Mechanics\n",
    "1. Farmers Market - lowest selling value based on demand sets the market price.\n",
    "2. Market Makers are provided some commission for providing liquidity to the market from Stock Exchanges\n",
    "3. Liquidity prevents sharp changes in stock pricing, i.e., allows stable stock pricing. \n",
    "4. Market data can be summarized in a way to maintain important characteristics. \n",
    "5. OHLC - Open, High, Low, Close (a day's worth of trading)\n",
    "    - high level summary to accurately indicate a trading day's activities without requiring the entire raw trading data. \n",
    "6. Take into account volume of trades; High Volume Trades impact exchange more than Low volume trades\n",
    "7. Consider discontinuous items to account for trading hours during analysis. \n",
    "8. Stock Exchanges are physical locations and operate in different timezones. \n",
    "    - Stocks can be listed in multiple exchanges that operate during different hours. \n",
    "    \n"
   ]
  },
  {
   "cell_type": "code",
   "execution_count": null,
   "metadata": {},
   "outputs": [],
   "source": [
    "# Markect Mechanics Quiz 1 - resample data\n",
    "def days_to_weeks(open_prices, high_prices, low_prices, close_prices):\n",
    "    \"\"\"Converts daily OHLC prices to weekly OHLC prices.\n",
    "    \n",
    "    Parameters\n",
    "    ----------\n",
    "    open_prices : DataFrame\n",
    "        Daily open prices for each ticker and date\n",
    "    high_prices : DataFrame\n",
    "        Daily high prices for each ticker and date\n",
    "    low_prices : DataFrame\n",
    "        Daily low prices for each ticker and date\n",
    "    close_prices : DataFrame\n",
    "        Daily close prices for each ticker and date\n",
    "\n",
    "    Returns\n",
    "    -------\n",
    "    open_prices_weekly : DataFrame\n",
    "        Weekly open prices for each ticker and date\n",
    "    high_prices_weekly : DataFrame\n",
    "        Weekly high prices for each ticker and date\n",
    "    low_prices_weekly : DataFrame\n",
    "        Weekly low prices for each ticker and date\n",
    "    close_prices_weekly : DataFrame\n",
    "        Weekly close prices for each ticker and date\n",
    "    \"\"\"\n",
    "        \n",
    "    return open_prices.resample('W').first(), high_prices.resample('W').max(), low_prices.resample('W').min(), close_prices.resample('W').last()"
   ]
  },
  {
   "cell_type": "code",
   "execution_count": null,
   "metadata": {},
   "outputs": [],
   "source": []
  }
 ],
 "metadata": {
  "kernelspec": {
   "display_name": "Python 3",
   "language": "python",
   "name": "python3"
  },
  "language_info": {
   "codemirror_mode": {
    "name": "ipython",
    "version": 3
   },
   "file_extension": ".py",
   "mimetype": "text/x-python",
   "name": "python",
   "nbconvert_exporter": "python",
   "pygments_lexer": "ipython3",
   "version": "3.12.3"
  }
 },
 "nbformat": 4,
 "nbformat_minor": 2
}
